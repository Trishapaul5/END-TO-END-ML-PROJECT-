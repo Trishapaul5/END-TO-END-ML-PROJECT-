{
 "cells": [
  {
   "cell_type": "markdown",
   "metadata": {},
   "source": [
    "# Economic Analysis of Countries\n",
    "## This notebook analyzes economic indicators for 49 countries using Wikipedia and World Bank data, including clustering, time-series analysis, and interactive visualizations."
   ]
  },
  {
   "cell_type": "code",
   "execution_count": null,
   "metadata": {},
   "outputs": [],
   "source": [
    "import pandas as pd\n",
    "import matplotlib.pyplot as plt\n",
    "import seaborn as sns\n",
    "from sklearn.cluster import KMeans\n",
    "import plotly.express as px\n",
    "import os\n",
    "\n",
    "# Create plots directory\n",
    "os.makedirs('plots', exist_ok=True)\n",
    "\n",
    "# Load processed data\n",
    "df_static = pd.read_csv('data/processed_economic_data.csv')\n",
    "df_time_series = pd.read_csv('data/processed_worldbank_data.csv')\n",
    "print(f'Static data shape: {df_static.shape}')\n",
    "print(f'Time-series data shape: {df_time_series.shape}')\n",
    "\n",
    "# Correlation analysis\n",
    "numeric_cols = ['GDP_Current_USD', 'GDP_Per_Capita_Calc', 'GDP_Growth', 'Inflation_Rate', \n",
    "                'Unemployment_Rate', 'Gini_Coefficient', 'Population_WB']\n",
    "corr = df_static[numeric_cols].corr()\n",
    "plt.figure(figsize=(10, 8))\n",
    "sns.heatmap(corr, annot=True, cmap='coolwarm', fmt='.2f')\n",
    "plt.title('Correlation of Economic Indicators')\n",
    "plt.savefig('plots/correlation_heatmap.png')\n",
    "plt.show()\n",
    "\n",
    "# Clustering analysis\n",
    "X = df_static[['GDP_Per_Capita_Calc', 'Gini_Coefficient']].dropna()\n",
    "kmeans = KMeans(n_clusters=3, random_state=42)\n",
    "df_static['Cluster'] = pd.Series(kmeans.fit_predict(X), index=X.index)\n",
    "\n",
    "# Interactive scatter plot\n",
    "fig = px.scatter(df_static, x='GDP_Per_Capita_Calc', y='Gini_Coefficient', color='Cluster',\n",
    "                 size='Population_WB', hover_data=['Country', 'Unemployment_Rate'],\n",
    "                 title='Economic Clustering of Countries')\n",
    "fig.write_html('plots/economic_clustering.html')  # Fixed\n",
    "fig.show()\n",
    "\n",
    "# Time-series plot of GDP per capita growth\n",
    "fig = px.line(df_time_series, x='Year', y='GDP_Per_Capita_Growth', color='Country',\n",
    "              title='GDP Per Capita Growth (2015-2023)')\n",
    "fig.update_layout(showlegend=False)\n",
    "fig.write_html('plots/gdp_per_capita_growth.html')  # Fixed\n",
    "fig.show()\n",
    "\n",
    "# Choropleth map of Gini coefficient\n",
    "fig = px.choropleth(df_static, locations='Country', locationmode='country names',\n",
    "                    color='Gini_Coefficient', hover_data=['Country', 'GDP_Per_Capita_Calc'],\n",
    "                    title='Gini Coefficient by Country (2023)',\n",
    "                    color_continuous_scale='Viridis')\n",
    "fig.write_html('plots/gini_choropleth.html')  # Fixed\n",
    "fig.show()\n",
    "\n",
    "# Bar plot of unemployment rate\n",
    "plt.figure(figsize=(12, 6))\n",
    "sns.barplot(x='Country', y='Unemployment_Rate', data=df_static)\n",
    "plt.xticks(rotation=45, ha='right')\n",
    "plt.title('Unemployment Rate by Country (2023)')\n",
    "plt.tight_layout()\n",
    "plt.savefig('plots/unemployment_bar.png')\n",
    "plt.show()\n"
   ]
  },
  {
   "cell_type": "markdown",
   "metadata": {},
   "source": [
    "## Insights\n",
    "- Countries with high GDP per capita often have lower Gini coefficients, indicating less income inequality.\n",
    "- Clustering identifies three groups: high-income/low-inequality, emerging economies, and high-inequality/low-income countries.\n",
    "- Time-series data shows varied GDP per capita growth trends, with some countries recovering faster post-2020.\n",
    "- Unemployment rates vary significantly, with potential correlation to economic development levels.\n",
    "- Further analysis could explore causal relationships or forecasting using time-series models."
   ]
  }
 ],
 "metadata": {
  "kernelspec": {
   "display_name": ".venv",
   "language": "python",
   "name": "python3"
  },
  "language_info": {
   "codemirror_mode": {
    "name": "ipython",
    "version": 3
   },
   "file_extension": ".py",
   "mimetype": "text/x-python",
   "name": "python",
   "nbconvert_exporter": "python",
   "pygments_lexer": "ipython3",
   "version": "3.12.4"
  }
 },
 "nbformat": 4,
 "nbformat_minor": 4
}
